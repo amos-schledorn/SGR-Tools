{
 "cells": [
  {
   "cell_type": "code",
   "execution_count": 1,
   "metadata": {},
   "outputs": [],
   "source": [
    "import numpy as np\n",
    "import pandas as pd\n",
    "from sgr_tools.ScenarioReduction import ScenarioTree\n",
    "# autoreload\n",
    "%load_ext autoreload\n",
    "%autoreload 2"
   ]
  },
  {
   "attachments": {},
   "cell_type": "markdown",
   "metadata": {},
   "source": [
    "### Create sample data"
   ]
  },
  {
   "cell_type": "code",
   "execution_count": 2,
   "metadata": {},
   "outputs": [],
   "source": [
    "# create sample data\n",
    "n_scenarios_generated = 1000\n",
    "n_timesteps = 24\n",
    "sample = np.random.normal(size=(n_scenarios_generated, n_timesteps))"
   ]
  },
  {
   "attachments": {},
   "cell_type": "markdown",
   "metadata": {},
   "source": [
    "## 2-stage scenario tree generation\n",
    "(at time step 0)"
   ]
  },
  {
   "cell_type": "code",
   "execution_count": 4,
   "metadata": {},
   "outputs": [
    {
     "name": "stdout",
     "output_type": "stream",
     "text": [
      "Medoids:\n",
      "[[ 1.00990381 -1.19748382  0.34669886 -0.08638077 -0.38061379 -0.83751218\n",
      "  -0.02306616  1.08651117 -0.27618655 -0.69102302  0.37452651 -0.13628384\n",
      "   0.59578621 -0.32289501 -0.02831342  0.13152711 -1.10866873 -0.14977008\n",
      "   1.19450575 -0.03836734  0.3693552   0.31611508  0.25695175 -0.3576569 ]\n",
      " [-0.74726563 -0.06873164  0.21395234  0.92144341  0.33612721 -0.2275789\n",
      "  -0.37916139 -0.15178322  0.02471489 -0.38680473 -0.58635433 -1.55246865\n",
      "   0.40073436 -0.03032777 -0.26587346 -0.93058592 -0.79318083  0.33313667\n",
      "   0.06730513  0.79462716 -1.12698207  0.69119859 -0.44227541  0.60426952]]\n",
      "Probabilities:\n",
      "[0.528 0.472]\n"
     ]
    }
   ],
   "source": [
    "n_scenarios_reduced = 2\n",
    "tree = ScenarioTree(data=sample, split_idx=[0], split_branches=[n_scenarios_reduced])\n",
    "print(\"Medoids:\")\n",
    "print(tree.get_scenario_data())\n",
    "print(\"Probabilities:\")\n",
    "print(tree.get_scenario_probabilities())"
   ]
  },
  {
   "attachments": {},
   "cell_type": "markdown",
   "metadata": {},
   "source": [
    "## 3-stage scenario tree generation\n",
    "(at time steps 0 and 10)"
   ]
  },
  {
   "cell_type": "code",
   "execution_count": null,
   "metadata": {},
   "outputs": [],
   "source": [
    "tree = ScenarioTree(data=sample, split_idx=[0, 10], split_branches=[n_scenarios_reduced, 2]) # reduce to 2 scenarios in third stage\n",
    "print(\"Medoids:\")\n",
    "print(tree.get_scenario_data())\n",
    "print(\"Probabilities:\")\n",
    "print(tree.get_scenario_probabilities())"
   ]
  },
  {
   "cell_type": "code",
   "execution_count": null,
   "metadata": {},
   "outputs": [],
   "source": [
    "# plot medoids\n",
    "pd.DataFrame(tree.get_scenario_data()).transpose().plot(ylabel=\"Value\", xlabel=\"Time\", title=\"Medoids\")"
   ]
  }
 ],
 "metadata": {
  "kernelspec": {
   "display_name": "Python 3",
   "language": "python",
   "name": "python3"
  },
  "language_info": {
   "codemirror_mode": {
    "name": "ipython",
    "version": 3
   },
   "file_extension": ".py",
   "mimetype": "text/x-python",
   "name": "python",
   "nbconvert_exporter": "python",
   "pygments_lexer": "ipython3",
   "version": "3.11.0"
  },
  "orig_nbformat": 4,
  "vscode": {
   "interpreter": {
    "hash": "77c2103c4c862c3e5e227e927245e189dddbdff57301e35f8d5db884d0232a5c"
   }
  }
 },
 "nbformat": 4,
 "nbformat_minor": 2
}
